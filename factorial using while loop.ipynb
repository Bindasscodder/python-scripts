{
 "cells": [
  {
   "cell_type": "markdown",
   "id": "8859a6ca",
   "metadata": {},
   "source": [
    "# Factorial of a number using \"while\" loop"
   ]
  },
  {
   "cell_type": "code",
   "execution_count": 5,
   "id": "3716a8d1",
   "metadata": {},
   "outputs": [
    {
     "name": "stdout",
     "output_type": "stream",
     "text": [
      "Enter a number whose factorial you want 3\n",
      "Factorial of a number is  6\n"
     ]
    }
   ],
   "source": [
    "n=eval(input(\"Enter a number whose factorial you want \"))   #taking a number from the user\n",
    "\n",
    "f=1                                                        #initializing f, in which factorial will be stored\n",
    "\n",
    "while(n!=0):                                              #starting a while loop till n!=0\n",
    "    \n",
    "    f=f*n                                                #factorial formula\n",
    "    \n",
    "    n-=1                                                #updating the while loop\n",
    "    \n",
    "print(\"Factorial of a number is \",f)                    #printing factorial"
   ]
  }
 ],
 "metadata": {
  "kernelspec": {
   "display_name": "Python 3 (ipykernel)",
   "language": "python",
   "name": "python3"
  },
  "language_info": {
   "codemirror_mode": {
    "name": "ipython",
    "version": 3
   },
   "file_extension": ".py",
   "mimetype": "text/x-python",
   "name": "python",
   "nbconvert_exporter": "python",
   "pygments_lexer": "ipython3",
   "version": "3.9.12"
  }
 },
 "nbformat": 4,
 "nbformat_minor": 5
}
